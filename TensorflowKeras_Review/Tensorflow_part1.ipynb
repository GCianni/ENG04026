{
  "cells": [
    {
      "cell_type": "code",
      "execution_count": 42,
      "metadata": {
        "id": "qF90xkDiOva8"
      },
      "outputs": [],
      "source": [
        "import tensorflow as tf\n",
        "import matplotlib.pyplot as plt"
      ]
    },
    {
      "cell_type": "markdown",
      "metadata": {
        "id": "lZMQzliCQQCh"
      },
      "source": [
        "# Tensors"
      ]
    },
    {
      "cell_type": "markdown",
      "metadata": {
        "id": "VlIPXtVEWqME"
      },
      "source": [
        "A Tensor is an algebraic object that represents a multilinear relationship between sets of algebraic objects related to a vector space.\n",
        "(p.e) \n",
        "- Scalar: **0** Order \n",
        "      escalar = 12\n",
        "- Vector: **1st** Order \n",
        "      vector = [1,2]\n",
        "- Matrix: **2nd** Order \n",
        "      matrix =  [[1,2],\n",
        "                [3,4]]\n",
        "- **3rd** Order Tensor\n",
        "      [ [[1,2],[1,2]],\n",
        "       [[3,4], [3,4]],\n",
        "       [[5,6],[5,6]] ]"
      ]
    },
    {
      "cell_type": "code",
      "execution_count": 2,
      "metadata": {
        "id": "j8_2XLeiQCW3"
      },
      "outputs": [],
      "source": [
        "CTE_INT = tf.constant(12)\n",
        "CTE_STR = tf.constant('hello world')\n",
        "\n",
        "var_int = tf.Variable(10)\n",
        "var_matrix = tf.Variable([[1,2,3],[4,5,6],[7,8,9]])\n",
        "\n"
      ]
    },
    {
      "cell_type": "markdown",
      "metadata": {
        "id": "FnZg6BKLTfDe"
      },
      "source": [
        "# 1) z = x²y + y + cte"
      ]
    },
    {
      "cell_type": "code",
      "execution_count": 7,
      "metadata": {
        "colab": {
          "base_uri": "https://localhost:8080/"
        },
        "id": "4gm1NKkPTdwf",
        "outputId": "8ea067b5-4d05-46c4-fdc4-985406535760"
      },
      "outputs": [
        {
          "name": "stdout",
          "output_type": "stream",
          "text": [
            "305\n"
          ]
        }
      ],
      "source": [
        "x = tf.Variable(10)\n",
        "y = tf.Variable(3)\n",
        "CTE = tf.constant(2)\n",
        "def eq_fun(x,y, CTE):\n",
        "  return x**2*y+y+2\n",
        "\n",
        "z = eq_fun(x,y,CTE)\n",
        "tf.print(z)"
      ]
    },
    {
      "cell_type": "markdown",
      "metadata": {
        "id": "Fl_KdufqUxe9"
      },
      "source": [
        "# Matrixs Multiplications"
      ]
    },
    {
      "cell_type": "code",
      "execution_count": 25,
      "metadata": {
        "colab": {
          "base_uri": "https://localhost:8080/"
        },
        "id": "FNN23x_TTW94",
        "outputId": "58112946-2dad-4217-d9d6-d98ecf4578d3"
      },
      "outputs": [
        {
          "name": "stdout",
          "output_type": "stream",
          "text": [
            "Matrix A:\n",
            "[[1 2 3]\n",
            " [4 5 6]] \n",
            "\n",
            "Matrix B:\n",
            "[[7 8]\n",
            " [9 10]\n",
            " [1 2]] \n",
            "\n",
            "Matrix C:\n",
            "[[28 34]\n",
            " [79 94]]\n"
          ]
        }
      ],
      "source": [
        "a = tf.Variable([[1,2,3],[4,5,6]])\n",
        "b = tf.Variable([[7,8],[9,10],[1,2]])\n",
        "\n",
        "c = tf.matmul(a,b)\n",
        "print(\"Matrix A:\")\n",
        "tf.print(a,'\\n')\n",
        "\n",
        "print(\"Matrix B:\")\n",
        "tf.print(b,'\\n')\n",
        "\n",
        "print(\"Matrix C:\")\n",
        "tf.print(c)"
      ]
    },
    {
      "cell_type": "markdown",
      "metadata": {
        "id": "bkVCoWlCWTv8"
      },
      "source": [
        "# 3) Vector Reshape (tf.reshape)\n",
        "  - Create a 2x3 matrix 2x3 and reshape to a 3x2 dim"
      ]
    },
    {
      "cell_type": "code",
      "execution_count": 24,
      "metadata": {
        "colab": {
          "base_uri": "https://localhost:8080/"
        },
        "id": "wj-v1eQOTgN0",
        "outputId": "564cf76d-4be6-464a-8f70-ff6beeb8e480"
      },
      "outputs": [
        {
          "name": "stdout",
          "output_type": "stream",
          "text": [
            "Matrix Original\n",
            "[[1 2 3]\n",
            " [4 5 6]]\n",
            "Dim Original: [2, 3] \n",
            "\n",
            "Matrix Reformada\n",
            "[[1 2]\n",
            " [3 4]\n",
            " [5 6]]\n",
            "Dim Atualizada: [3, 2] \n",
            "\n"
          ]
        }
      ],
      "source": [
        "my_matrix = tf.Variable([[1,2,3],[4,5,6]])\n",
        "print('Original Matrix ')\n",
        "tf.print(my_matrix)\n",
        "tf.print('Original Dim:',my_matrix.shape.as_list(),'\\n')\n",
        "\n",
        "new_matrix = tf.reshape(my_matrix, [3,2])\n",
        "print('Reshaped Matrix')\n",
        "tf.print(new_matrix)\n",
        "tf.print('Updated Dim:',new_matrix.shape.as_list(),'\\n')"
      ]
    },
    {
      "cell_type": "markdown",
      "metadata": {
        "id": "QtyoZk1AX-_S"
      },
      "source": [
        "# 4) Argmax\n",
        "Function that return the position of the largest element in a algebric sctructure\n",
        "- axis = 0 → return position of the largest number by **collumn**\n",
        "- axis = 1 → return position of the largest number by **row**"
      ]
    },
    {
      "cell_type": "code",
      "execution_count": 33,
      "metadata": {
        "colab": {
          "base_uri": "https://localhost:8080/"
        },
        "id": "6maRE7PmWldv",
        "outputId": "65090ab1-778b-4151-ac19-69f9bd29534c"
      },
      "outputs": [
        {
          "name": "stdout",
          "output_type": "stream",
          "text": [
            "ARGMAX MATRIX: \n",
            "[[90 12 25]\n",
            " [10 87 22]\n",
            " [10 90 700]] \n",
            "\n",
            "argmax by column: [0 2 2]\n",
            "argmax by row: [0 1 2]\n"
          ]
        }
      ],
      "source": [
        "matrix = tf.Variable([[90, 12, 25], [10, 87, 22], [10, 90, 700]])\n",
        "print(\"ARGMAX MATRIX: \")\n",
        "tf.print(matrix,'\\n')\n",
        "tf.print(\"argmax by column:\", tf.argmax(matrix, axis=0))\n",
        "tf.print(\"argmax by row:\", tf.argmax(matrix, axis=1))"
      ]
    },
    {
      "cell_type": "markdown",
      "metadata": {
        "id": "couKy8y-ac-w"
      },
      "source": [
        "# 5) Optimizers in a linear regression"
      ]
    },
    {
      "cell_type": "code",
      "execution_count": 73,
      "metadata": {
        "colab": {
          "base_uri": "https://localhost:8080/",
          "height": 333
        },
        "id": "15cBn5kMYAn_",
        "outputId": "4acdd386-98cf-4480-db0a-30171734d4c6"
      },
      "outputs": [
        {
          "name": "stdout",
          "output_type": "stream",
          "text": [
            "w value: -1.00347471  b value: 1.00004041\n",
            "y: [0, -1, -2, -3]  yp: [-0.00343430042 -1.00690901 -2.01038361 -3.01385832] \n",
            "\n"
          ]
        },
        {
          "data": {
            "image/png": "[encoded data removed]",
            "text/plain": [
              "<Figure size 432x288 with 1 Axes>"
            ]
          },
          "metadata": {
            "needs_background": "light"
          },
          "output_type": "display_data"
        }
      ],
      "source": [
        "# y = w∙x + b \n",
        "\n",
        "w = tf.Variable(0.0)\n",
        "b = tf.Variable(0.0)\n",
        "\n",
        "def regression (x ,w, b):\n",
        "  return w*x + b\n",
        "x = [1, 2, 3, 4]\n",
        "y = [0, -1, -2, -3]\n",
        "\n",
        "loss = lambda: abs(regression(x, w, b)-y)\n",
        "\n",
        "opt = tf.optimizers.Adam(learning_rate = 0.01)\n",
        "loss_hist = []\n",
        "for _ in range(10000):\n",
        "  opt.minimize(loss, [w,b])\n",
        "  loss_hist.append(tf.reduce_mean(abs(regression(x, w, b)-y)))\n",
        "tf.print('w value:', w, ' b value:', b)\n",
        "tf.print('y:', y, ' yp:', regression(x, w, b),'\\n')\n",
        "plt.plot(loss_hist)\n",
        "plt.title('loss history')\n",
        "plt.show()\n"
      ]
    },
    {
      "cell_type": "markdown",
      "metadata": {
        "id": "KM6iJbGzfBHk"
      },
      "source": [
        "# 6) Optimizers in quadratic equations resolutions\n",
        "f(x) = x² - 10x  + 25 = 0 "
      ]
    },
    {
      "cell_type": "code",
      "execution_count": 72,
      "metadata": {
        "colab": {
          "base_uri": "https://localhost:8080/",
          "height": 333
        },
        "id": "kBj9BD-Xdoc2",
        "outputId": "bee9aa90-134e-43ff-9a35-b6c68da111b2"
      },
      "outputs": [
        {
          "name": "stdout",
          "output_type": "stream",
          "text": [
            "x value: 4.99919891\n",
            "y: 0  yp: 0 \n",
            "\n"
          ]
        },
        {
          "data": {
            "image/png": "[encoded data removed]",
            "text/plain": [
              "<Figure size 432x288 with 1 Axes>"
            ]
          },
          "metadata": {
            "needs_background": "light"
          },
          "output_type": "display_data"
        }
      ],
      "source": [
        "# f(x) = x² - 10x  + 25 = 0 \n",
        "x = tf.Variable(0.0)\n",
        "loss = lambda: abs(x**2-10*x+25)\n",
        "\n",
        "opt = tf.optimizers.Adam(learning_rate = 0.01)\n",
        "loss_hist = []\n",
        "for _ in range(10000):\n",
        "  opt.minimize(loss, x)\n",
        "  loss_hist.append(abs(x**2-10*x+25))\n",
        "tf.print('x value:', x)\n",
        "tf.print('y: 0', ' yp:', abs(x**2-10*x+25), '\\n')\n",
        "plt.plot(loss_hist)\n",
        "plt.title('Loss History')\n",
        "plt.show()"
      ]
    }
  ],
  "metadata": {
    "colab": {
      "name": "Revisão Tensorflow part1.ipynb",
      "provenance": []
    },
    "kernelspec": {
      "display_name": "Python 3",
      "name": "python3"
    },
    "language_info": {
      "name": "python"
    }
  },
  "nbformat": 4,
  "nbformat_minor": 0
}
